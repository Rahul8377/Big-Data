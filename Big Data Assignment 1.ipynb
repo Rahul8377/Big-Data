{
 "cells": [
  {
   "cell_type": "markdown",
   "id": "ee5d6d7a",
   "metadata": {},
   "source": [
    "# 1. Write a Python program to check if a given string is an anagram."
   ]
  },
  {
   "cell_type": "markdown",
   "id": "198ac021",
   "metadata": {},
   "source": [
    "An anagram is a word or phrase formed by rearranging the letters of a different word or phrase, typically using all the original letters exactly once. To check if a given string is an anagram, you can follow this Python program:\n",
    "\n",
    "python\n"
   ]
  },
  {
   "cell_type": "code",
   "execution_count": 2,
   "id": "7e54ec6a",
   "metadata": {},
   "outputs": [
    {
     "name": "stdout",
     "output_type": "stream",
     "text": [
      "Enter the first string: This is my first class\n",
      "Enter the second string: This class is my first class\n",
      "The two strings are not anagrams.\n"
     ]
    }
   ],
   "source": [
    "def is_anagram(str1, str2):\n",
    "    # Convert both strings to lowercase to make the comparison case-insensitive\n",
    "    str1 = str1.lower()\n",
    "    str2 = str2.lower()\n",
    "\n",
    "    # Remove spaces and special characters from the strings\n",
    "    str1 = ''.join(char for char in str1 if char.isalnum())\n",
    "    str2 = ''.join(char for char in str2 if char.isalnum())\n",
    "\n",
    "    # Check if the sorted characters of the two strings match\n",
    "    return sorted(str1) == sorted(str2)\n",
    "\n",
    "\n",
    "# Test the function\n",
    "if __name__ == \"__main__\":\n",
    "    input_str1 = input(\"Enter the first string: \")\n",
    "    input_str2 = input(\"Enter the second string: \")\n",
    "\n",
    "    if is_anagram(input_str1, input_str2):\n",
    "        print(\"The two strings are anagrams.\")\n",
    "    else:\n",
    "        print(\"The two strings are not anagrams.\")\n"
   ]
  },
  {
   "cell_type": "markdown",
   "id": "08ce239f",
   "metadata": {},
   "source": [
    "# 2. Write a Python program to find the maximum and minimum values in a\n",
    "dictionary."
   ]
  },
  {
   "cell_type": "markdown",
   "id": "ecfc3467",
   "metadata": {},
   "source": [
    "To find the maximum and minimum values in a dictionary, you can use the max() and min() functions along with the values() method of the dictionary. Here's a Python program to achieve that:"
   ]
  },
  {
   "cell_type": "code",
   "execution_count": 3,
   "id": "bca216af",
   "metadata": {},
   "outputs": [
    {
     "name": "stdout",
     "output_type": "stream",
     "text": [
      "Maximum value: 50\n",
      "Minimum value: 20\n"
     ]
    }
   ],
   "source": [
    "def find_max_min_values(dictionary):\n",
    "    if not dictionary:\n",
    "        raise ValueError(\"Dictionary is empty.\")\n",
    "    \n",
    "    # Finding the maximum value\n",
    "    max_value = max(dictionary.values())\n",
    "    \n",
    "    # Finding the minimum value\n",
    "    min_value = min(dictionary.values())\n",
    "    \n",
    "    return max_value, min_value\n",
    "\n",
    "\n",
    "# Test the function\n",
    "if __name__ == \"__main__\":\n",
    "    # Example dictionary\n",
    "    my_dict = {\"apple\": 30, \"banana\": 50, \"cherry\": 20, \"orange\": 40}\n",
    "\n",
    "    try:\n",
    "        max_val, min_val = find_max_min_values(my_dict)\n",
    "        print(\"Maximum value:\", max_val)\n",
    "        print(\"Minimum value:\", min_val)\n",
    "    except ValueError as e:\n",
    "        print(e)\n"
   ]
  },
  {
   "cell_type": "markdown",
   "id": "a707e9c7",
   "metadata": {},
   "source": [
    "In this program, the find_max_min_values function takes a dictionary as input and returns a tuple containing the maximum and minimum values found in the dictionary.\n",
    "\n",
    "We use the max() and min() functions to find the maximum and minimum values, respectively. These functions work with the dictionary's values() method, which returns a view object that contains the dictionary's values.\n",
    "\n",
    "Note that the program includes a check to handle cases where the dictionary is empty, raising a ValueError in such situations."
   ]
  },
  {
   "cell_type": "markdown",
   "id": "dcb1d55e",
   "metadata": {},
   "source": [
    "# 3. Write a Python program to find the average of a list of numbers."
   ]
  },
  {
   "cell_type": "markdown",
   "id": "d6e731d0",
   "metadata": {},
   "source": [
    "To find the average of a list of numbers, you can sum up all the numbers in the list and then divide the sum by the number of elements in the list. Here's a Python program to calculate the average:"
   ]
  },
  {
   "cell_type": "code",
   "execution_count": 4,
   "id": "a18d9192",
   "metadata": {},
   "outputs": [
    {
     "name": "stdout",
     "output_type": "stream",
     "text": [
      "Average: 30.0\n"
     ]
    }
   ],
   "source": [
    "def calculate_average(numbers):\n",
    "    if not numbers:\n",
    "        raise ValueError(\"List is empty.\")\n",
    "    \n",
    "    # Calculate the sum of the numbers in the list\n",
    "    total_sum = sum(numbers)\n",
    "    \n",
    "    # Calculate the average\n",
    "    average = total_sum / len(numbers)\n",
    "    \n",
    "    return average\n",
    "\n",
    "\n",
    "# Test the function\n",
    "if __name__ == \"__main__\":\n",
    "    try:\n",
    "        # Example list of numbers\n",
    "        my_list = [10, 20, 30, 40, 50]\n",
    "        \n",
    "        avg = calculate_average(my_list)\n",
    "        print(\"Average:\", avg)\n",
    "    except ValueError as e:\n",
    "        print(e)\n"
   ]
  },
  {
   "cell_type": "markdown",
   "id": "06de4173",
   "metadata": {},
   "source": [
    "In this program, the calculate_average function takes a list of numbers as input and returns the average value.\n",
    "\n",
    "We first check if the list is empty to avoid a ZeroDivisionError. Then, we use the sum() function to calculate the total sum of all the numbers in the list. After that, we divide the sum by the number of elements in the list, which is given by len(numbers), to obtain the average.\n",
    "\n",
    "Note that the program includes a check to handle cases where the list is empty, raising a ValueError in such situations."
   ]
  },
  {
   "cell_type": "markdown",
   "id": "021111e5",
   "metadata": {},
   "source": [
    "# 4. Write a Python program to remove all vowels from a string."
   ]
  },
  {
   "cell_type": "markdown",
   "id": "3d396dea",
   "metadata": {},
   "source": [
    "To remove all vowels from a string, you can iterate through each character in the string and exclude the vowels from the result string. There are several ways to achieve this. Here's a Python program using a loop to remove vowels:\n",
    "\n"
   ]
  },
  {
   "cell_type": "code",
   "execution_count": 5,
   "id": "fe819004",
   "metadata": {},
   "outputs": [
    {
     "name": "stdout",
     "output_type": "stream",
     "text": [
      "Enter a string: My name is Rahul Amberia\n",
      "String without vowels: My nm s Rhl mbr\n"
     ]
    }
   ],
   "source": [
    "def remove_vowels(input_string):\n",
    "    vowels = \"aeiouAEIOU\"\n",
    "    result = \"\"\n",
    "\n",
    "    for char in input_string:\n",
    "        if char not in vowels:\n",
    "            result += char\n",
    "\n",
    "    return result\n",
    "\n",
    "\n",
    "# Test the function\n",
    "if __name__ == \"__main__\":\n",
    "    input_string = input(\"Enter a string: \")\n",
    "    result_string = remove_vowels(input_string)\n",
    "    print(\"String without vowels:\", result_string)\n"
   ]
  },
  {
   "cell_type": "markdown",
   "id": "edf59e22",
   "metadata": {},
   "source": [
    "In this program, the remove_vowels function takes a string as input and returns the string with all vowels removed.\n",
    "\n",
    "We define a string vowels containing all the lowercase and uppercase vowels. Then, we initialize an empty string result. For each character in the input string, we check if it is not present in the vowels string. If it is not a vowel, we concatenate it to the result string. The result string will only contain characters that are not vowels."
   ]
  },
  {
   "cell_type": "markdown",
   "id": "ad210d77",
   "metadata": {},
   "source": [
    "# 5. Write a Python function to calculate the factorial of a number using recursion."
   ]
  },
  {
   "cell_type": "markdown",
   "id": "c52afad1",
   "metadata": {},
   "source": [
    "To calculate the factorial of a number using recursion, you can define a function that calls itself with a smaller version of the problem until it reaches the base case. The factorial of a non-negative integer n is the product of all positive integers less than or equal to n. Here's the Python function to calculate the factorial using recursion:"
   ]
  },
  {
   "cell_type": "code",
   "execution_count": 7,
   "id": "fb8b15cc",
   "metadata": {},
   "outputs": [
    {
     "name": "stdout",
     "output_type": "stream",
     "text": [
      "Enter a non-negative integer: 6\n",
      "The factorial of 6 is: 720\n"
     ]
    }
   ],
   "source": [
    "def factorial_recursive(n):\n",
    "    if n == 0 or n == 1:\n",
    "        return 1\n",
    "    else:\n",
    "        return n * factorial_recursive(n - 1)\n",
    "\n",
    "\n",
    "# Test the function\n",
    "if __name__ == \"__main__\":\n",
    "    try:\n",
    "        num = int(input(\"Enter a non-negative integer: \"))\n",
    "        if num < 0:\n",
    "            raise ValueError(\"Factorial is not defined for negative numbers.\")\n",
    "        \n",
    "        result = factorial_recursive(num)\n",
    "        print(f\"The factorial of {num} is: {result}\")\n",
    "    except ValueError as e:\n",
    "        print(e)\n"
   ]
  },
  {
   "cell_type": "markdown",
   "id": "81f92f93",
   "metadata": {},
   "source": [
    "# 6. Write a Python program to merge two unsorted lists into a single sorted list\n",
    "using the merge sort algorithm."
   ]
  },
  {
   "cell_type": "markdown",
   "id": "b59c589a",
   "metadata": {},
   "source": [
    "The merge sort algorithm is a divide-and-conquer sorting algorithm that works by dividing the unsorted list into smaller sublists, sorting those sublists, and then merging them back together into a single sorted list. Here's a Python program to merge two unsorted lists into a single sorted list using the merge sort algorithm:"
   ]
  },
  {
   "cell_type": "code",
   "execution_count": 8,
   "id": "6d65652a",
   "metadata": {},
   "outputs": [
    {
     "name": "stdout",
     "output_type": "stream",
     "text": [
      "Enter the first list of numbers separated by spaces: 23 34 56 67 78 89 90 67 45 34 78 \n",
      "Enter the second list of numbers separated by spaces: 23 45 56 67 78 45 89 45 89 90 \n",
      "Merged and Sorted List: [23, 23, 34, 45, 56, 56, 67, 67, 78, 45, 78, 89, 45, 89, 89, 90, 90, 67, 45, 34, 78]\n"
     ]
    }
   ],
   "source": [
    "def merge_sort_merge(left, right):\n",
    "    merged_list = []\n",
    "    left_index, right_index = 0, 0\n",
    "\n",
    "    while left_index < len(left) and right_index < len(right):\n",
    "        if left[left_index] < right[right_index]:\n",
    "            merged_list.append(left[left_index])\n",
    "            left_index += 1\n",
    "        else:\n",
    "            merged_list.append(right[right_index])\n",
    "            right_index += 1\n",
    "\n",
    "    # Append any remaining elements in left and right sublists\n",
    "    merged_list.extend(left[left_index:])\n",
    "    merged_list.extend(right[right_index:])\n",
    "\n",
    "    return merged_list\n",
    "\n",
    "\n",
    "def merge_sort(input_list):\n",
    "    if len(input_list) <= 1:\n",
    "        return input_list\n",
    "\n",
    "    mid = len(input_list) // 2\n",
    "    left_half = input_list[:mid]\n",
    "    right_half = input_list[mid:]\n",
    "\n",
    "    left_sorted = merge_sort(left_half)\n",
    "    right_sorted = merge_sort(right_half)\n",
    "\n",
    "    return merge_sort_merge(left_sorted, right_sorted)\n",
    "\n",
    "\n",
    "# Test the function\n",
    "if __name__ == \"__main__\":\n",
    "    try:\n",
    "        list1 = list(map(int, input(\"Enter the first list of numbers separated by spaces: \").split()))\n",
    "        list2 = list(map(int, input(\"Enter the second list of numbers separated by spaces: \").split()))\n",
    "\n",
    "        merged_sorted_list = merge_sort_merge(list1, list2)\n",
    "        print(\"Merged and Sorted List:\", merged_sorted_list)\n",
    "    except ValueError as e:\n",
    "        print(\"Error:\", e)\n"
   ]
  },
  {
   "cell_type": "markdown",
   "id": "c7c33da5",
   "metadata": {},
   "source": [
    "# 7. Write a Python program to find the GCD (Greatest Common Divisor) of two\n",
    "numbers."
   ]
  },
  {
   "cell_type": "markdown",
   "id": "8fe3fd82",
   "metadata": {},
   "source": [
    "To find the Greatest Common Divisor (GCD) of two numbers, you can use the Euclidean algorithm, which is an efficient method for finding the GCD of two integers. Here's a Python program to calculate the GCD of two numbers:"
   ]
  },
  {
   "cell_type": "code",
   "execution_count": 10,
   "id": "3f038534",
   "metadata": {},
   "outputs": [
    {
     "name": "stdout",
     "output_type": "stream",
     "text": [
      "Enter the first number: 20\n",
      "Enter the second number: 12\n",
      "GCD: 4\n"
     ]
    }
   ],
   "source": [
    "def gcd(a, b):\n",
    "    while b != 0:\n",
    "        a, b = b, a % b\n",
    "    return a\n",
    "\n",
    "\n",
    "# Test the function\n",
    "if __name__ == \"__main__\":\n",
    "    try:\n",
    "        num1 = int(input(\"Enter the first number: \"))\n",
    "        num2 = int(input(\"Enter the second number: \"))\n",
    "\n",
    "        if num1 < 0 or num2 < 0:\n",
    "            raise ValueError(\"GCD is not defined for negative numbers.\")\n",
    "\n",
    "        result = gcd(num1, num2)\n",
    "        print(\"GCD:\", result)\n",
    "    except ValueError as e:\n",
    "        print(e)\n"
   ]
  },
  {
   "cell_type": "markdown",
   "id": "caa769c4",
   "metadata": {},
   "source": [
    "In this program, the gcd function takes two positive integers a and b as input and returns their GCD. The Euclidean algorithm is used in the while loop until the remainder b becomes zero. At that point, the value of a will be the GCD of the two numbers.\n",
    "\n",
    "Note that the program includes a check to handle cases where the user inputs negative numbers, raising a ValueError in such situations. The GCD is not defined for negative numbers."
   ]
  },
  {
   "cell_type": "markdown",
   "id": "43818b47",
   "metadata": {},
   "source": [
    "# 8. Write a Python program to find the second-largest element in a list."
   ]
  },
  {
   "cell_type": "markdown",
   "id": "a7528e0f",
   "metadata": {},
   "source": [
    "To find the second-largest element in a list, you can iterate through the list and keep track of the largest and second-largest elements as you go. Here's a Python program to achieve that:"
   ]
  },
  {
   "cell_type": "code",
   "execution_count": 11,
   "id": "ac89b239",
   "metadata": {},
   "outputs": [
    {
     "name": "stdout",
     "output_type": "stream",
     "text": [
      "Enter a list of numbers separated by spaces: 23 34 56 67 78 89 90 65 45\n",
      "Second-largest element: 89\n"
     ]
    }
   ],
   "source": [
    "def find_second_largest(input_list):\n",
    "    if len(input_list) < 2:\n",
    "        raise ValueError(\"List must contain at least two elements.\")\n",
    "    \n",
    "    largest = float('-inf')\n",
    "    second_largest = float('-inf')\n",
    "\n",
    "    for num in input_list:\n",
    "        if num > largest:\n",
    "            second_largest = largest\n",
    "            largest = num\n",
    "        elif num > second_largest and num != largest:\n",
    "            second_largest = num\n",
    "\n",
    "    if second_largest == float('-inf'):\n",
    "        raise ValueError(\"There is no second-largest element in the list.\")\n",
    "    \n",
    "    return second_largest\n",
    "\n",
    "\n",
    "# Test the function\n",
    "if __name__ == \"__main__\":\n",
    "    try:\n",
    "        input_list = list(map(int, input(\"Enter a list of numbers separated by spaces: \").split()))\n",
    "\n",
    "        second_largest_element = find_second_largest(input_list)\n",
    "        print(\"Second-largest element:\", second_largest_element)\n",
    "    except ValueError as e:\n",
    "        print(e)\n"
   ]
  },
  {
   "cell_type": "markdown",
   "id": "d1f35c8b",
   "metadata": {},
   "source": [
    "In this program, the find_second_largest function takes a list of numbers as input and returns the second-largest element from the list.\n",
    "\n",
    "We initialize two variables, largest and second_largest, with negative infinity (float('-inf')). Then, we iterate through the list, comparing each element with the current largest and second-largest values. If an element is larger than the current largest, we update both the largest and second-largest accordingly. If an element is larger than the current second-largest but not equal to the largest, we update only the second-largest.\n",
    "\n",
    "If there is no second-largest element (e.g., when the list contains only one unique element), the function raises a ValueError with an appropriate message."
   ]
  },
  {
   "cell_type": "markdown",
   "id": "57fb10ea",
   "metadata": {},
   "source": [
    "# 9. Write a Python program to find the longest common subsequence between two\n",
    "strings using dynamic programming."
   ]
  },
  {
   "cell_type": "markdown",
   "id": "638da01f",
   "metadata": {},
   "source": [
    "To find the longest common subsequence (LCS) between two strings using dynamic programming, you can build a 2D table to store the lengths of the common subsequences of substrings and then backtrack to reconstruct the LCS itself. Here's a Python program to achieve that:"
   ]
  },
  {
   "cell_type": "code",
   "execution_count": 12,
   "id": "d8818c15",
   "metadata": {},
   "outputs": [
    {
     "name": "stdout",
     "output_type": "stream",
     "text": [
      "Enter the first string: 23\n",
      "Enter the second string: 54\n",
      "There is no common subsequence between the two strings.\n"
     ]
    }
   ],
   "source": [
    "def longest_common_subsequence(str1, str2):\n",
    "    m, n = len(str1), len(str2)\n",
    "    \n",
    "    # Create a 2D table to store the lengths of the common subsequences\n",
    "    dp = [[0] * (n + 1) for _ in range(m + 1)]\n",
    "    \n",
    "    # Fill the table using dynamic programming\n",
    "    for i in range(1, m + 1):\n",
    "        for j in range(1, n + 1):\n",
    "            if str1[i - 1] == str2[j - 1]:\n",
    "                dp[i][j] = dp[i - 1][j - 1] + 1\n",
    "            else:\n",
    "                dp[i][j] = max(dp[i - 1][j], dp[i][j - 1])\n",
    "    \n",
    "    # Backtrack to find the longest common subsequence\n",
    "    lcs = \"\"\n",
    "    i, j = m, n\n",
    "    while i > 0 and j > 0:\n",
    "        if str1[i - 1] == str2[j - 1]:\n",
    "            lcs = str1[i - 1] + lcs\n",
    "            i -= 1\n",
    "            j -= 1\n",
    "        elif dp[i - 1][j] > dp[i][j - 1]:\n",
    "            i -= 1\n",
    "        else:\n",
    "            j -= 1\n",
    "\n",
    "    return lcs\n",
    "\n",
    "\n",
    "# Test the function\n",
    "if __name__ == \"__main__\":\n",
    "    try:\n",
    "        str1 = input(\"Enter the first string: \")\n",
    "        str2 = input(\"Enter the second string: \")\n",
    "\n",
    "        lcs = longest_common_subsequence(str1, str2)\n",
    "        if lcs:\n",
    "            print(\"Longest Common Subsequence:\", lcs)\n",
    "        else:\n",
    "            print(\"There is no common subsequence between the two strings.\")\n",
    "    except Exception as e:\n",
    "        print(\"Error:\", e)\n"
   ]
  },
  {
   "cell_type": "markdown",
   "id": "2a92c88e",
   "metadata": {},
   "source": [
    "In this program, the longest_common_subsequence function takes two strings str1 and str2 as input and returns the longest common subsequence between the two strings.\n",
    "\n",
    "We create a 2D table dp of size (m+1) × (n+1), where m and n are the lengths of str1 and str2, respectively. The value dp[i][j] represents the length of the common subsequence of the substrings str1[:i] and str2[:j].\n",
    "\n",
    "We fill the table using dynamic programming by comparing each character of str1 and str2. If the characters match, we increment the length of the common subsequence by 1. If they don't match, we take the maximum length from either the previous row or the previous column.\n",
    "\n",
    "Finally, we backtrack from the bottom-right corner of the table to find the longest common subsequence and return it. If there is no common subsequence, the function returns an empty string."
   ]
  },
  {
   "cell_type": "code",
   "execution_count": null,
   "id": "4ab7f92b",
   "metadata": {},
   "outputs": [],
   "source": []
  }
 ],
 "metadata": {
  "kernelspec": {
   "display_name": "Python 3 (ipykernel)",
   "language": "python",
   "name": "python3"
  },
  "language_info": {
   "codemirror_mode": {
    "name": "ipython",
    "version": 3
   },
   "file_extension": ".py",
   "mimetype": "text/x-python",
   "name": "python",
   "nbconvert_exporter": "python",
   "pygments_lexer": "ipython3",
   "version": "3.9.7"
  }
 },
 "nbformat": 4,
 "nbformat_minor": 5
}
