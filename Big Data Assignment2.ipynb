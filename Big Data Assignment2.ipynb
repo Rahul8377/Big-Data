{
 "cells": [
  {
   "cell_type": "markdown",
   "id": "e5d870eb",
   "metadata": {},
   "source": [
    "# 1. Write an SQL query to retrieve the names and email addresses of all employees from a table named \"Employees\n"
   ]
  },
  {
   "cell_type": "markdown",
   "id": "d3937153",
   "metadata": {},
   "source": [
    "Sure, here's an SQL query to retrieve the names and email addresses of all employees from the \"Employees\" table:\n",
    "\n",
    "sql"
   ]
  },
  {
   "cell_type": "markdown",
   "id": "a230ad9d",
   "metadata": {},
   "source": [
    "SELECT name, email\n",
    "\n",
    "FROM Employees;\n"
   ]
  },
  {
   "cell_type": "markdown",
   "id": "3f8f5d30",
   "metadata": {},
   "source": [
    "This query will select the \"name\" and \"email\" columns from the \"Employees\" table and return the names and email addresses of all employees in the table."
   ]
  },
  {
   "cell_type": "markdown",
   "id": "8594a736",
   "metadata": {},
   "source": [
    "# 2. Write an SQL query to filter records from a table named \"Customers\" where the \"City\" column is 'New York'"
   ]
  },
  {
   "cell_type": "markdown",
   "id": "3b2908c8",
   "metadata": {},
   "source": [
    "SQL query to filter records from the \"Customers\" table where the \"City\" column is 'New York':"
   ]
  },
  {
   "cell_type": "markdown",
   "id": "70c0deb4",
   "metadata": {},
   "source": [
    "SELECT *\n",
    "\n",
    "FROM Customers\n",
    "\n",
    "WHERE City = 'New York';\n"
   ]
  },
  {
   "cell_type": "markdown",
   "id": "a08f5f44",
   "metadata": {},
   "source": [
    "# 3. Write an SQL query to sort records in descending order based on the \"DateOfBirth\" column in a table named \"Users\"."
   ]
  },
  {
   "cell_type": "markdown",
   "id": "04ba56a3",
   "metadata": {},
   "source": [
    "SQL query to sort records in descending order based on the \"DateOfBirth\" column in the \"Users\" table:\n",
    "\n"
   ]
  },
  {
   "cell_type": "markdown",
   "id": "2c3b00cb",
   "metadata": {},
   "source": [
    "SELECT *\n",
    "\n",
    "FROM Users\n",
    "\n",
    "ORDER BY DateOfBirth DESC;\n"
   ]
  },
  {
   "cell_type": "markdown",
   "id": "3ceb4df0",
   "metadata": {},
   "source": [
    "# 4. Write an SQL query to sort records in ascending order based on the \"RegistrationDate\" column in a table named \"Users\"."
   ]
  },
  {
   "cell_type": "markdown",
   "id": "4902c8ed",
   "metadata": {},
   "source": [
    "an SQL query to sort records in ascending order based on the \"RegistrationDate\" column in the \"Users\" table:\n",
    "\n",
    "sql\n"
   ]
  },
  {
   "cell_type": "markdown",
   "id": "ad5e3887",
   "metadata": {},
   "source": [
    "SELECT *\n",
    "\n",
    "FROM Users\n",
    "\n",
    "ORDER BY RegistrationDate ASC;\n"
   ]
  },
  {
   "cell_type": "markdown",
   "id": "c35a2ed1",
   "metadata": {},
   "source": [
    "# 5. Write an SQL query to find the employee with the highest salary from a table named \"Employees\" and display their name, position, and salary."
   ]
  },
  {
   "cell_type": "markdown",
   "id": "3b68634a",
   "metadata": {},
   "source": [
    " the employee with the highest salary from the \"Employees\" table and display their name, position, and salary, you can use the following SQL query:"
   ]
  },
  {
   "cell_type": "markdown",
   "id": "d5616231",
   "metadata": {},
   "source": [
    "SELECT name, position, salary\n",
    "\n",
    "FROM Employees\n",
    "\n",
    "WHERE salary = (SELECT MAX(salary) FROM Employees);\n"
   ]
  },
  {
   "cell_type": "markdown",
   "id": "b85a0305",
   "metadata": {},
   "source": [
    "This query uses a subquery (SELECT MAX(salary) FROM Employees) to find the maximum salary value from the \"Employees\" table. Then, it selects the \"name\", \"position\", and \"salary\" columns for the employee(s) whose salary matches the maximum value.\n",
    "\n",
    "Please note that if there are multiple employees with the same highest salary, this query will return all of them. If you only want to retrieve a single record, you may need additional sorting criteria, such as using ORDER BY on a unique identifier or date column to select one employee in case of a tie."
   ]
  },
  {
   "cell_type": "markdown",
   "id": "6703a6aa",
   "metadata": {},
   "source": [
    "# 6. Write an SQL query to retrieve records from a table named \"Customers\" where the \"Phone\" column matches the pattern '+1-XXX-XXX-XXXX'.\n"
   ]
  },
  {
   "cell_type": "markdown",
   "id": "5294165b",
   "metadata": {},
   "source": [
    "To retrieve records from the \"Customers\" table where the \"Phone\" column matches the pattern '+1-XXX-XXX-XXXX', you can use the LIKE operator with a wildcard pattern. The '%' symbol is used as a wildcard to match any sequence of characters.\n",
    "\n",
    "Here's the SQL query:"
   ]
  },
  {
   "cell_type": "markdown",
   "id": "11f5a85c",
   "metadata": {},
   "source": [
    "SELECT *\n",
    "\n",
    "FROM Customers\n",
    "\n",
    "WHERE Phone LIKE '+1-___-___-____';\n"
   ]
  },
  {
   "cell_type": "markdown",
   "id": "a2f27434",
   "metadata": {},
   "source": [
    "In this query, the underscore '_' is used as a placeholder for a single character. So, the pattern +1-___-___-____ will match any phone number that starts with \"+1-\" followed by three characters, a hyphen, three more characters, another hyphen, and finally, four more characters. This ensures that the \"Phone\" column follows the format '+1-XXX-XXX-XXXX', where 'X' represents any digit (0-9).\n",
    "\n",
    "This query will return all records from the \"Customers\" table where the \"Phone\" column matches the specified pattern.\n",
    "\n",
    "\n",
    "\n",
    "\n"
   ]
  },
  {
   "cell_type": "markdown",
   "id": "e2629e6e",
   "metadata": {},
   "source": [
    "# 7. Write an SQL query to retrieve the top 5 customers with the highest total purchase amount from a table named \"Orders\" and display their names and total purchase amounts"
   ]
  },
  {
   "cell_type": "markdown",
   "id": "cfd98297",
   "metadata": {},
   "source": [
    "To retrieve the top 5 customers with the highest total purchase amount from the \"Orders\" table and display their names and total purchase amounts, you can use the following SQL query:"
   ]
  },
  {
   "cell_type": "markdown",
   "id": "97061fd1",
   "metadata": {},
   "source": [
    "SELECT customer_name, SUM(purchase_amount) AS total_purchase_amount\n",
    "\n",
    "FROM Orders\n",
    "\n",
    "GROUP BY customer_name\n",
    "\n",
    "ORDER BY total_purchase_amount DESC\n",
    "\n",
    "LIMIT 5;\n"
   ]
  },
  {
   "cell_type": "markdown",
   "id": "a4675a70",
   "metadata": {},
   "source": [
    "In this query:\n",
    "\n",
    "We are selecting the \"customer_name\" column and the sum of \"purchase_amount\" for each customer using SUM(purchase_amount) and aliasing it as \"total_purchase_amount\".\n",
    "\n",
    "We are grouping the results by the \"customer_name\" using GROUP BY customer_name, which ensures that we get the total purchase amount for each customer.\n",
    "\n",
    "We are then ordering the results in descending order based on the \"total_purchase_amount\" using ORDER BY total_purchase_amount DESC.\n",
    "\n",
    "Finally, we use LIMIT 5 to retrieve only the top 5 customers with the highest total purchase amounts.\n",
    "\n",
    "This query will give you the names and total purchase amounts of the top 5 customers who have spent the most on their purchases."
   ]
  },
  {
   "cell_type": "markdown",
   "id": "b2c7f6b5",
   "metadata": {},
   "source": [
    "# 8. Write an SQL query to calculate the percentage of sales for each product category in a table named \"Sales\" and display the category name, total sales amount, and the percentage of total sales."
   ]
  },
  {
   "cell_type": "markdown",
   "id": "ac3bd15f",
   "metadata": {},
   "source": [
    "To calculate the percentage of sales for each product category in the \"Sales\" table and display the category name, total sales amount, and the percentage of total sales, you can use the following SQL query:"
   ]
  },
  {
   "cell_type": "markdown",
   "id": "c50fa819",
   "metadata": {},
   "source": [
    "SELECT category_name,\n",
    "\n",
    "       SUM(sales_amount) AS total_sales_amount,\n",
    "    \n",
    "       (SUM(sales_amount) / (SELECT SUM(sales_amount) FROM Sales)) * 100 AS percentage_of_total_sales\n",
    "        \n",
    "FROM Sales\n",
    "\n",
    "GROUP BY category_name;\n"
   ]
  },
  {
   "cell_type": "markdown",
   "id": "e83fef9d",
   "metadata": {},
   "source": [
    "In this query:\n",
    "\n",
    "We are selecting the \"category_name\" column, calculating the sum of \"sales_amount\" for each category using SUM(sales_amount), and aliasing it as \"total_sales_amount\".\n",
    "\n",
    "We are using a subquery (SELECT SUM(sales_amount) FROM Sales) to calculate the total sales amount across all categories.\n",
    "\n",
    "We are dividing the sum of \"sales_amount\" for each category by the total sales amount (calculated in the subquery) and then multiplying it by 100 to get the percentage of total sales for each category. This is aliased as \"percentage_of_total_sales\".\n",
    "\n",
    "We are grouping the results by \"category_name\" using GROUP BY category_name, which ensures that we get the calculations for each product category.\n",
    "\n",
    "The query will provide you with the category name, total sales amount for each category, and the percentage of total sales that each category contributes."
   ]
  },
  {
   "cell_type": "markdown",
   "id": "fedf1c9f",
   "metadata": {},
   "source": [
    "# 9. Write an SQL query to find the customers who have made the highest total purchases across all years from a table named \"Orders\" and display their names, email addresses, and the total purchase amount."
   ]
  },
  {
   "cell_type": "markdown",
   "id": "16a82215",
   "metadata": {},
   "source": [
    "To find the customers who have made the highest total purchases across all years from the \"Orders\" table and display their names, email addresses, and the total purchase amount, you can use the following SQL query:"
   ]
  },
  {
   "cell_type": "markdown",
   "id": "b4fb41a2",
   "metadata": {},
   "source": [
    "SELECT customer_name, email, SUM(purchase_amount) AS total_purchase_amount\n",
    "\n",
    "FROM Orders\n",
    "\n",
    "GROUP BY customer_name, email\n",
    "\n",
    "ORDER BY total_purchase_amount DESC\n",
    "\n",
    "LIMIT 1;\n"
   ]
  },
  {
   "cell_type": "markdown",
   "id": "6c3ab875",
   "metadata": {},
   "source": [
    "In this query:\n",
    "\n",
    "We are selecting the \"customer_name\" column, the \"email\" column, and calculating the sum of \"purchase_amount\" for each customer using SUM(purchase_amount), and aliasing it as \"total_purchase_amount\".\n",
    "\n",
    "We are grouping the results by both \"customer_name\" and \"email\" using GROUP BY customer_name, email. This ensures that we get the total purchase amount for each individual customer.\n",
    "\n",
    "We are then ordering the results in descending order based on the \"total_purchase_amount\" using ORDER BY total_purchase_amount DESC.\n",
    "\n",
    "Finally, we use LIMIT 1 to retrieve only the top customer who has made the highest total purchase amount across all years.\n",
    "\n",
    "This query will give you the name, email address, and the total purchase amount of the customer who has made the highest total purchases across all years in the \"Orders\" table."
   ]
  },
  {
   "cell_type": "code",
   "execution_count": null,
   "id": "c1851c46",
   "metadata": {},
   "outputs": [],
   "source": []
  }
 ],
 "metadata": {
  "kernelspec": {
   "display_name": "Python 3 (ipykernel)",
   "language": "python",
   "name": "python3"
  },
  "language_info": {
   "codemirror_mode": {
    "name": "ipython",
    "version": 3
   },
   "file_extension": ".py",
   "mimetype": "text/x-python",
   "name": "python",
   "nbconvert_exporter": "python",
   "pygments_lexer": "ipython3",
   "version": "3.9.7"
  }
 },
 "nbformat": 4,
 "nbformat_minor": 5
}
